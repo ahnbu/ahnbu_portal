{
 "cells": [
  {
   "cell_type": "code",
   "execution_count": 1,
   "metadata": {},
   "outputs": [],
   "source": [
    "import requests\n",
    "from bs4 import BeautifulSoup\n",
    "import numpy as np\n",
    "import pandas as pd\n",
    "from datetime import datetime, date"
   ]
  },
  {
   "cell_type": "code",
   "execution_count": 2,
   "metadata": {},
   "outputs": [],
   "source": [
    "#from ahnbu_portal import settings\n",
    "from django.utils import timezone"
   ]
  },
  {
   "cell_type": "code",
   "execution_count": 3,
   "metadata": {},
   "outputs": [],
   "source": [
    "marketing = requests.get(\n",
    "    \"https://dsschool.co.kr/marketing/suggestions\").text\n",
    "data_analytics = requests.get(\"https://dsschool.co.kr/suggestions\").text\n",
    "\n",
    "soup_mkt = BeautifulSoup(marketing, 'lxml')\n",
    "soup_data = BeautifulSoup(data_analytics, 'lxml')\n",
    "\n",
    "# 리스트 만들기\n",
    "name = []\n",
    "summary = []\n",
    "price = []\n",
    "discount = []\n",
    "discount_price = []\n",
    "category = []\n",
    "link = []\n",
    "update_date = []\n",
    "\n",
    "for i in range(2):\n",
    "    name.append(soup_mkt.select('h3.course-name')[i].text)\n",
    "    summary.append(soup_mkt.select('h3.course-summary')[i].text)\n",
    "    price_origin = soup_mkt.select('h3.course-price')[i*2].text[0:-2]\n",
    "    price_origin = price_origin.replace(',', '')\n",
    "    price_origin = int(price_origin)\n",
    "    price.append(price_origin)\n",
    "    discount_origin = soup_mkt.find_all(\n",
    "        'a', {\"class\": \"btn-course btn-purchase\"})[i].text[0:2]\n",
    "    discount_origin = int(discount_origin)\n",
    "    discount.append(discount_origin)\n",
    "    discount_price.append(int(price_origin*(100-discount_origin)/1000000))\n",
    "    category.append(\"마케팅\")\n",
    "    link.append(\"https://dsschool.co.kr/marketing/suggestions\")\n",
    "    update_date.append(datetime.now())\n",
    "\n",
    "    #    update_date.append(timezone.localtime())\n",
    "\n",
    "# 리스트 만들기\n",
    "# price 문자열 내 ','제거, 정수화한 후 만원 단위로 변경\n",
    "price = list(map(int, price))\n",
    "price = np.array(price)\n",
    "b = [10000]*2\n",
    "b = np.array(b)\n",
    "price = price/b\n",
    "price = list(map(int, price))\n",
    "\n",
    "for i in range(6):\n",
    "    name.append(soup_data.select('h3.course-name')[i].text)\n",
    "    summary.append(soup_data.select('h3.course-summary')[i].text)\n",
    "    price_origin = soup_data.select('h3.course-price')[i].text[0:-2]\n",
    "    price_origin = price_origin.replace(',', '')\n",
    "    price_origin = int(price_origin)\n",
    "    price.append(price_origin)\n",
    "    discount_origin = soup_data.find_all(\n",
    "        'a', {\"class\": \"btn-course btn-purchase\"})[i].text[0:2]\n",
    "    discount_origin = int(discount_origin)\n",
    "    discount.append(discount_origin)\n",
    "    discount_price.append(int(price_origin*(100-discount_origin)/100))\n",
    "    category.append(\"데이터분석\")\n",
    "    link.append(\"https://dsschool.co.kr/suggestions\")\n",
    "    update_date.append(datetime.now())\n",
    "\n",
    "# 정수로 변환\n",
    "price = list(map(int, price))\n",
    "discount = list(map(int, discount))\n",
    "\n",
    "all_list = (category, name, price, discount,\n",
    "            discount_price, summary, link, update_date)\n",
    "col_names = [\"category\", \"name\", \"price\", \"discount\",\n",
    "             \"discount_price\", \"summary\", \"link\", \"update_date\"]"
   ]
  },
  {
   "cell_type": "code",
   "execution_count": 5,
   "metadata": {},
   "outputs": [],
   "source": [
    "from mytool import list_to_table"
   ]
  },
  {
   "cell_type": "code",
   "execution_count": 6,
   "metadata": {},
   "outputs": [
    {
     "data": {
      "text/html": [
       "<div>\n",
       "<style scoped>\n",
       "    .dataframe tbody tr th:only-of-type {\n",
       "        vertical-align: middle;\n",
       "    }\n",
       "\n",
       "    .dataframe tbody tr th {\n",
       "        vertical-align: top;\n",
       "    }\n",
       "\n",
       "    .dataframe thead th {\n",
       "        text-align: right;\n",
       "    }\n",
       "</style>\n",
       "<table border=\"1\" class=\"dataframe\">\n",
       "  <thead>\n",
       "    <tr style=\"text-align: right;\">\n",
       "      <th></th>\n",
       "      <th>category</th>\n",
       "      <th>name</th>\n",
       "      <th>price</th>\n",
       "      <th>discount</th>\n",
       "      <th>discount_price</th>\n",
       "      <th>summary</th>\n",
       "      <th>link</th>\n",
       "      <th>update_date</th>\n",
       "    </tr>\n",
       "  </thead>\n",
       "  <tbody>\n",
       "    <tr>\n",
       "      <th>0</th>\n",
       "      <td>마케팅</td>\n",
       "      <td>입문 과정</td>\n",
       "      <td>105</td>\n",
       "      <td>50</td>\n",
       "      <td>52</td>\n",
       "      <td>4주 과정, 매주 5시간</td>\n",
       "      <td>https://dsschool.co.kr/marketing/suggestions</td>\n",
       "      <td>2018-11-24 13:53:57.705685</td>\n",
       "    </tr>\n",
       "    <tr>\n",
       "      <th>1</th>\n",
       "      <td>마케팅</td>\n",
       "      <td>페북 광고 심화반</td>\n",
       "      <td>99</td>\n",
       "      <td>40</td>\n",
       "      <td>59</td>\n",
       "      <td>4주 과정, 매주 4시간</td>\n",
       "      <td>https://dsschool.co.kr/marketing/suggestions</td>\n",
       "      <td>2018-11-24 13:53:57.709889</td>\n",
       "    </tr>\n",
       "    <tr>\n",
       "      <th>2</th>\n",
       "      <td>데이터분석</td>\n",
       "      <td>입문 속성 과정</td>\n",
       "      <td>99</td>\n",
       "      <td>50</td>\n",
       "      <td>49</td>\n",
       "      <td>2일 과정, 18시간</td>\n",
       "      <td>https://dsschool.co.kr/suggestions</td>\n",
       "      <td>2018-11-24 13:53:57.722686</td>\n",
       "    </tr>\n",
       "    <tr>\n",
       "      <th>3</th>\n",
       "      <td>데이터분석</td>\n",
       "      <td>입문 과정</td>\n",
       "      <td>99</td>\n",
       "      <td>50</td>\n",
       "      <td>49</td>\n",
       "      <td>4주 과정, 매주 5시간</td>\n",
       "      <td>https://dsschool.co.kr/suggestions</td>\n",
       "      <td>2018-11-24 13:53:57.735036</td>\n",
       "    </tr>\n",
       "    <tr>\n",
       "      <th>4</th>\n",
       "      <td>데이터분석</td>\n",
       "      <td>입문 온라인 과정</td>\n",
       "      <td>99</td>\n",
       "      <td>50</td>\n",
       "      <td>49</td>\n",
       "      <td>4주 과정, 매주 5시간</td>\n",
       "      <td>https://dsschool.co.kr/suggestions</td>\n",
       "      <td>2018-11-24 13:53:57.747393</td>\n",
       "    </tr>\n",
       "    <tr>\n",
       "      <th>5</th>\n",
       "      <td>데이터분석</td>\n",
       "      <td>실전 데이터분석 과정</td>\n",
       "      <td>99</td>\n",
       "      <td>40</td>\n",
       "      <td>59</td>\n",
       "      <td>4주 과정, 매주 1회 * 4시간</td>\n",
       "      <td>https://dsschool.co.kr/suggestions</td>\n",
       "      <td>2018-11-24 13:53:57.759758</td>\n",
       "    </tr>\n",
       "    <tr>\n",
       "      <th>6</th>\n",
       "      <td>데이터분석</td>\n",
       "      <td>실전 머신러닝 과정</td>\n",
       "      <td>99</td>\n",
       "      <td>40</td>\n",
       "      <td>59</td>\n",
       "      <td>4주 과정, 매주 1회 * 4시간</td>\n",
       "      <td>https://dsschool.co.kr/suggestions</td>\n",
       "      <td>2018-11-24 13:53:57.772036</td>\n",
       "    </tr>\n",
       "    <tr>\n",
       "      <th>7</th>\n",
       "      <td>데이터분석</td>\n",
       "      <td>딥러닝 과정</td>\n",
       "      <td>149</td>\n",
       "      <td>30</td>\n",
       "      <td>104</td>\n",
       "      <td>4주 과정, 매주 2회 * 3시간</td>\n",
       "      <td>https://dsschool.co.kr/suggestions</td>\n",
       "      <td>2018-11-24 13:53:57.784258</td>\n",
       "    </tr>\n",
       "  </tbody>\n",
       "</table>\n",
       "</div>"
      ],
      "text/plain": [
       "  category         name price discount discount_price             summary  \\\n",
       "0      마케팅        입문 과정   105       50             52       4주 과정, 매주 5시간   \n",
       "1      마케팅    페북 광고 심화반    99       40             59       4주 과정, 매주 4시간   \n",
       "2    데이터분석     입문 속성 과정    99       50             49         2일 과정, 18시간   \n",
       "3    데이터분석        입문 과정    99       50             49       4주 과정, 매주 5시간   \n",
       "4    데이터분석    입문 온라인 과정    99       50             49       4주 과정, 매주 5시간   \n",
       "5    데이터분석  실전 데이터분석 과정    99       40             59  4주 과정, 매주 1회 * 4시간   \n",
       "6    데이터분석   실전 머신러닝 과정    99       40             59  4주 과정, 매주 1회 * 4시간   \n",
       "7    데이터분석       딥러닝 과정   149       30            104  4주 과정, 매주 2회 * 3시간   \n",
       "\n",
       "                                           link                 update_date  \n",
       "0  https://dsschool.co.kr/marketing/suggestions  2018-11-24 13:53:57.705685  \n",
       "1  https://dsschool.co.kr/marketing/suggestions  2018-11-24 13:53:57.709889  \n",
       "2            https://dsschool.co.kr/suggestions  2018-11-24 13:53:57.722686  \n",
       "3            https://dsschool.co.kr/suggestions  2018-11-24 13:53:57.735036  \n",
       "4            https://dsschool.co.kr/suggestions  2018-11-24 13:53:57.747393  \n",
       "5            https://dsschool.co.kr/suggestions  2018-11-24 13:53:57.759758  \n",
       "6            https://dsschool.co.kr/suggestions  2018-11-24 13:53:57.772036  \n",
       "7            https://dsschool.co.kr/suggestions  2018-11-24 13:53:57.784258  "
      ]
     },
     "execution_count": 6,
     "metadata": {},
     "output_type": "execute_result"
    }
   ],
   "source": [
    "df = list_to_table(all_list, col_names)\n",
    "df"
   ]
  },
  {
   "cell_type": "code",
   "execution_count": 30,
   "metadata": {},
   "outputs": [
    {
     "ename": "SyntaxError",
     "evalue": "invalid syntax (<ipython-input-30-1366d4750169>, line 8)",
     "output_type": "error",
     "traceback": [
      "\u001b[0;36m  File \u001b[0;32m\"<ipython-input-30-1366d4750169>\"\u001b[0;36m, line \u001b[0;32m8\u001b[0m\n\u001b[0;31m    result = {'message': \"오늘은 이미 업데이트되었습니다.\"; 'msg2':'230'}\u001b[0m\n\u001b[0m                                            ^\u001b[0m\n\u001b[0;31mSyntaxError\u001b[0m\u001b[0;31m:\u001b[0m invalid syntax\n"
     ]
    }
   ],
   "source": [
    "def df_sql(df):\n",
    "    import sqlite3\n",
    "    con = sqlite3.connect(\"./db.sqlite3\")\n",
    "    # ../db.sqlite3이라고 하니까 계속 업데이트 안되었음 ㅠㅠ 점 하나 빼야 됨\n",
    "    if Price.objects.all().count() == 0:  # 기존에 없으면, 바로 추가\n",
    "        # 아래 dsschool_price에서 dsschool 부분에 앱 이름이 들어가야 함\n",
    "        df.to_sql('dsschool_price', con, if_exists='append', index=False)\n",
    "        result = {'message': \"오늘은 이미 업데이트되었습니다.\"; 'msg2':'230'}\n",
    "    else:  # 기존에 있으면, 오늘 꺼가 있으면 업데이트 안함\n",
    "        price_date = Price.objects.first().update_date\n",
    "        if price_date.date() < datetime.today().date():\n",
    "            df.to_sql('dsschool_price', con, if_exists='append', index=False)\n",
    "            result = {'message': \"오늘은 이미 업데이트되었습니다.\"; 'msg2':'230'}\n",
    "        else:\n",
    "            result = {'message': \"오늘은 이미 업데이트되었습니다.\"; 'msg2':'230'}\n",
    "    return result"
   ]
  },
  {
   "cell_type": "code",
   "execution_count": 28,
   "metadata": {},
   "outputs": [
    {
     "name": "stderr",
     "output_type": "stream",
     "text": [
      "(0.000) SELECT COUNT(*) AS \"__count\" FROM \"dsschool_price\"; args=()\n",
      "(0.000) SELECT \"dsschool_price\".\"id\", \"dsschool_price\".\"name\", \"dsschool_price\".\"summary\", \"dsschool_price\".\"price\", \"dsschool_price\".\"discount\", \"dsschool_price\".\"discount_price\", \"dsschool_price\".\"category\", \"dsschool_price\".\"link\", \"dsschool_price\".\"update_date\" FROM \"dsschool_price\" ORDER BY \"dsschool_price\".\"update_date\" DESC, \"dsschool_price\".\"id\" DESC  LIMIT 1; args=()\n"
     ]
    },
    {
     "data": {
      "text/plain": [
       "{'message': '오늘은 이미 업데이트되었습니다.', 'msg2': '230'}"
      ]
     },
     "execution_count": 28,
     "metadata": {},
     "output_type": "execute_result"
    }
   ],
   "source": [
    "df_sql(df)"
   ]
  },
  {
   "cell_type": "code",
   "execution_count": 29,
   "metadata": {},
   "outputs": [
    {
     "ename": "KeyError",
     "evalue": "'msg2'",
     "output_type": "error",
     "traceback": [
      "\u001b[0;31m---------------------------------------------------------------------------\u001b[0m",
      "\u001b[0;31mKeyError\u001b[0m                                  Traceback (most recent call last)",
      "\u001b[0;32m<ipython-input-29-d9237678fe10>\u001b[0m in \u001b[0;36m<module>\u001b[0;34m()\u001b[0m\n\u001b[0;32m----> 1\u001b[0;31m \u001b[0mmessage\u001b[0m\u001b[0;34m[\u001b[0m\u001b[0;34m\"msg2\"\u001b[0m\u001b[0;34m]\u001b[0m\u001b[0;34m\u001b[0m\u001b[0m\n\u001b[0m",
      "\u001b[0;31mKeyError\u001b[0m: 'msg2'"
     ]
    }
   ],
   "source": [
    "message[\"msg2\"]"
   ]
  },
  {
   "cell_type": "code",
   "execution_count": 11,
   "metadata": {},
   "outputs": [
    {
     "name": "stderr",
     "output_type": "stream",
     "text": [
      "(0.000) SELECT COUNT(*) AS \"__count\" FROM \"dsschool_price\"; args=()\n",
      "(0.000) SELECT \"dsschool_price\".\"id\", \"dsschool_price\".\"name\", \"dsschool_price\".\"summary\", \"dsschool_price\".\"price\", \"dsschool_price\".\"discount\", \"dsschool_price\".\"discount_price\", \"dsschool_price\".\"category\", \"dsschool_price\".\"link\", \"dsschool_price\".\"update_date\" FROM \"dsschool_price\" ORDER BY \"dsschool_price\".\"update_date\" DESC, \"dsschool_price\".\"id\" DESC  LIMIT 1; args=()\n"
     ]
    },
    {
     "data": {
      "text/plain": [
       "{'message': '오늘은 이미 업데이트되었습니다.'}"
      ]
     },
     "execution_count": 11,
     "metadata": {},
     "output_type": "execute_result"
    }
   ],
   "source": [
    "message=df_sql(df)\n",
    "message"
   ]
  },
  {
   "cell_type": "code",
   "execution_count": 8,
   "metadata": {},
   "outputs": [
    {
     "data": {
      "text/html": [
       "<div>\n",
       "<style scoped>\n",
       "    .dataframe tbody tr th:only-of-type {\n",
       "        vertical-align: middle;\n",
       "    }\n",
       "\n",
       "    .dataframe tbody tr th {\n",
       "        vertical-align: top;\n",
       "    }\n",
       "\n",
       "    .dataframe thead th {\n",
       "        text-align: right;\n",
       "    }\n",
       "</style>\n",
       "<table border=\"1\" class=\"dataframe\">\n",
       "  <thead>\n",
       "    <tr style=\"text-align: right;\">\n",
       "      <th></th>\n",
       "      <th>category</th>\n",
       "      <th>name</th>\n",
       "      <th>price</th>\n",
       "      <th>discount</th>\n",
       "      <th>discount_price</th>\n",
       "      <th>summary</th>\n",
       "      <th>link</th>\n",
       "      <th>update_date</th>\n",
       "    </tr>\n",
       "  </thead>\n",
       "  <tbody>\n",
       "    <tr>\n",
       "      <th>0</th>\n",
       "      <td>마케팅</td>\n",
       "      <td>입문 과정</td>\n",
       "      <td>105</td>\n",
       "      <td>50</td>\n",
       "      <td>52</td>\n",
       "      <td>4주 과정, 매주 5시간</td>\n",
       "      <td>https://dsschool.co.kr/marketing/suggestions</td>\n",
       "      <td>2018-11-24 12:22:17.072843</td>\n",
       "    </tr>\n",
       "    <tr>\n",
       "      <th>1</th>\n",
       "      <td>마케팅</td>\n",
       "      <td>페북 광고 심화반</td>\n",
       "      <td>99</td>\n",
       "      <td>40</td>\n",
       "      <td>59</td>\n",
       "      <td>4주 과정, 매주 4시간</td>\n",
       "      <td>https://dsschool.co.kr/marketing/suggestions</td>\n",
       "      <td>2018-11-24 12:22:17.077398</td>\n",
       "    </tr>\n",
       "    <tr>\n",
       "      <th>2</th>\n",
       "      <td>데이터분석</td>\n",
       "      <td>입문 속성 과정</td>\n",
       "      <td>99</td>\n",
       "      <td>50</td>\n",
       "      <td>49</td>\n",
       "      <td>2일 과정, 18시간</td>\n",
       "      <td>https://dsschool.co.kr/suggestions</td>\n",
       "      <td>2018-11-24 12:22:17.091442</td>\n",
       "    </tr>\n",
       "    <tr>\n",
       "      <th>3</th>\n",
       "      <td>데이터분석</td>\n",
       "      <td>입문 과정</td>\n",
       "      <td>99</td>\n",
       "      <td>50</td>\n",
       "      <td>49</td>\n",
       "      <td>4주 과정, 매주 5시간</td>\n",
       "      <td>https://dsschool.co.kr/suggestions</td>\n",
       "      <td>2018-11-24 12:22:17.104829</td>\n",
       "    </tr>\n",
       "    <tr>\n",
       "      <th>4</th>\n",
       "      <td>데이터분석</td>\n",
       "      <td>입문 온라인 과정</td>\n",
       "      <td>99</td>\n",
       "      <td>50</td>\n",
       "      <td>49</td>\n",
       "      <td>4주 과정, 매주 5시간</td>\n",
       "      <td>https://dsschool.co.kr/suggestions</td>\n",
       "      <td>2018-11-24 12:22:17.118332</td>\n",
       "    </tr>\n",
       "    <tr>\n",
       "      <th>5</th>\n",
       "      <td>데이터분석</td>\n",
       "      <td>실전 데이터분석 과정</td>\n",
       "      <td>99</td>\n",
       "      <td>40</td>\n",
       "      <td>59</td>\n",
       "      <td>4주 과정, 매주 1회 * 4시간</td>\n",
       "      <td>https://dsschool.co.kr/suggestions</td>\n",
       "      <td>2018-11-24 12:22:17.131622</td>\n",
       "    </tr>\n",
       "    <tr>\n",
       "      <th>6</th>\n",
       "      <td>데이터분석</td>\n",
       "      <td>실전 머신러닝 과정</td>\n",
       "      <td>99</td>\n",
       "      <td>40</td>\n",
       "      <td>59</td>\n",
       "      <td>4주 과정, 매주 1회 * 4시간</td>\n",
       "      <td>https://dsschool.co.kr/suggestions</td>\n",
       "      <td>2018-11-24 12:22:17.144994</td>\n",
       "    </tr>\n",
       "    <tr>\n",
       "      <th>7</th>\n",
       "      <td>데이터분석</td>\n",
       "      <td>딥러닝 과정</td>\n",
       "      <td>149</td>\n",
       "      <td>30</td>\n",
       "      <td>104</td>\n",
       "      <td>4주 과정, 매주 2회 * 3시간</td>\n",
       "      <td>https://dsschool.co.kr/suggestions</td>\n",
       "      <td>2018-11-24 12:22:17.158358</td>\n",
       "    </tr>\n",
       "  </tbody>\n",
       "</table>\n",
       "</div>"
      ],
      "text/plain": [
       "  category         name price discount discount_price             summary  \\\n",
       "0      마케팅        입문 과정   105       50             52       4주 과정, 매주 5시간   \n",
       "1      마케팅    페북 광고 심화반    99       40             59       4주 과정, 매주 4시간   \n",
       "2    데이터분석     입문 속성 과정    99       50             49         2일 과정, 18시간   \n",
       "3    데이터분석        입문 과정    99       50             49       4주 과정, 매주 5시간   \n",
       "4    데이터분석    입문 온라인 과정    99       50             49       4주 과정, 매주 5시간   \n",
       "5    데이터분석  실전 데이터분석 과정    99       40             59  4주 과정, 매주 1회 * 4시간   \n",
       "6    데이터분석   실전 머신러닝 과정    99       40             59  4주 과정, 매주 1회 * 4시간   \n",
       "7    데이터분석       딥러닝 과정   149       30            104  4주 과정, 매주 2회 * 3시간   \n",
       "\n",
       "                                           link                 update_date  \n",
       "0  https://dsschool.co.kr/marketing/suggestions  2018-11-24 12:22:17.072843  \n",
       "1  https://dsschool.co.kr/marketing/suggestions  2018-11-24 12:22:17.077398  \n",
       "2            https://dsschool.co.kr/suggestions  2018-11-24 12:22:17.091442  \n",
       "3            https://dsschool.co.kr/suggestions  2018-11-24 12:22:17.104829  \n",
       "4            https://dsschool.co.kr/suggestions  2018-11-24 12:22:17.118332  \n",
       "5            https://dsschool.co.kr/suggestions  2018-11-24 12:22:17.131622  \n",
       "6            https://dsschool.co.kr/suggestions  2018-11-24 12:22:17.144994  \n",
       "7            https://dsschool.co.kr/suggestions  2018-11-24 12:22:17.158358  "
      ]
     },
     "execution_count": 8,
     "metadata": {},
     "output_type": "execute_result"
    }
   ],
   "source": []
  },
  {
   "cell_type": "code",
   "execution_count": 9,
   "metadata": {},
   "outputs": [],
   "source": [
    "df.to_sql('dsschool_price', con, if_exists='append', index=False)"
   ]
  },
  {
   "cell_type": "code",
   "execution_count": 10,
   "metadata": {},
   "outputs": [
    {
     "name": "stderr",
     "output_type": "stream",
     "text": [
      "(0.000) SELECT COUNT(*) AS \"__count\" FROM \"dsschool_price\"; args=()\n"
     ]
    },
    {
     "data": {
      "text/plain": [
       "9"
      ]
     },
     "execution_count": 10,
     "metadata": {},
     "output_type": "execute_result"
    }
   ],
   "source": [
    "Price.objects.all().count()"
   ]
  },
  {
   "cell_type": "code",
   "execution_count": 11,
   "metadata": {
    "scrolled": true
   },
   "outputs": [
    {
     "name": "stderr",
     "output_type": "stream",
     "text": [
      "(0.001) SELECT \"dsschool_price\".\"id\", \"dsschool_price\".\"name\", \"dsschool_price\".\"summary\", \"dsschool_price\".\"price\", \"dsschool_price\".\"discount\", \"dsschool_price\".\"discount_price\", \"dsschool_price\".\"category\", \"dsschool_price\".\"link\", \"dsschool_price\".\"update_date\" FROM \"dsschool_price\" ORDER BY \"dsschool_price\".\"update_date\" DESC, \"dsschool_price\".\"id\" DESC  LIMIT 1; args=()\n"
     ]
    }
   ],
   "source": [
    "first=Price.objects.first()"
   ]
  },
  {
   "cell_type": "code",
   "execution_count": 12,
   "metadata": {},
   "outputs": [
    {
     "name": "stdout",
     "output_type": "stream",
     "text": [
      "딥러닝 과정, 30\n"
     ]
    }
   ],
   "source": [
    "print(first)"
   ]
  },
  {
   "cell_type": "code",
   "execution_count": 13,
   "metadata": {},
   "outputs": [],
   "source": [
    "import mytool"
   ]
  },
  {
   "cell_type": "code",
   "execution_count": 14,
   "metadata": {},
   "outputs": [],
   "source": [
    "import mytool2"
   ]
  },
  {
   "cell_type": "code",
   "execution_count": 15,
   "metadata": {},
   "outputs": [
    {
     "data": {
      "text/plain": [
       "<function __main__.data_tool()>"
      ]
     },
     "execution_count": 15,
     "metadata": {},
     "output_type": "execute_result"
    }
   ],
   "source": [
    "data_tool"
   ]
  },
  {
   "cell_type": "code",
   "execution_count": 16,
   "metadata": {},
   "outputs": [
    {
     "data": {
      "text/plain": [
       "<function __main__.list_to_table(all_list, col_names)>"
      ]
     },
     "execution_count": 16,
     "metadata": {},
     "output_type": "execute_result"
    }
   ],
   "source": [
    "list_to_table"
   ]
  },
  {
   "cell_type": "code",
   "execution_count": null,
   "metadata": {},
   "outputs": [],
   "source": []
  }
 ],
 "metadata": {
  "kernelspec": {
   "display_name": "Django Shell-Plus",
   "language": "python",
   "name": "django_extensions"
  },
  "language_info": {
   "codemirror_mode": {
    "name": "ipython",
    "version": 3
   },
   "file_extension": ".py",
   "mimetype": "text/x-python",
   "name": "python",
   "nbconvert_exporter": "python",
   "pygments_lexer": "ipython3",
   "version": "3.7.0"
  }
 },
 "nbformat": 4,
 "nbformat_minor": 2
}
